{
 "cells": [
  {
   "cell_type": "markdown",
   "id": "57311c51",
   "metadata": {},
   "source": [
    "**1. The \"first pre-lecture video\" (above) describes hypothesis testing as addressing \"an idea that can be tested\", and the end of the video then discusses what our actual intended purpose in setting up a null hypothesis is. What is the key factor that makes the difference between ideas that can, and cannot be examined and tested statistically? What would you describe is the key \"criteria\" defining what a good null hypothesis is? And what is the difference between a null hypothesis and an alternative hypothesis in the context of hypothesis testing? Answer these questions with concise explanations in your own words.**"
   ]
  },
  {
   "cell_type": "markdown",
   "id": "f8d510dd",
   "metadata": {},
   "source": [
    "- **Key factor for testable ideas**  The key factor that makes an idea testable is whether it can be supported or refuted with data. A hypothesis must be measurable, meaning it can be compared against actual data to determine if it is true or not.\n",
    "\n",
    "- **Criteria for a Good Null Hypothesis:**  A good null hypothesis is precise, measurable, and states that there is no effect or no difference. It should be framed in a way that can be tested with data and either accepted or rejected based on the results.\n",
    "\n",
    "- **Difference Between Null and Alternative Hypothesis:** The null hypothesis (H₀) assumes that there is no effect or difference and represents the current state or assumption. The alternative hypothesis (H₁ or Hₐ) suggests that there is a significant effect or difference. Hypothesis testing aims to determine whether there is enough evidence to reject the null hypothesis in favor of the alternative."
   ]
  },
  {
   "cell_type": "markdown",
   "id": "decd3837",
   "metadata": {},
   "source": [
    "**2. Towards the end of the \"first pre-lecture\" video (above) it is stated that, \"It is important to note that outcomes of tests refer to the population parameter, rather than the sample statistic! As such, the result that we get is for the population.\" In terms of the distinctions between the concepts of xᵢ's, x̄ , μ, and μ₀ and how would you describe what the sentence above means? Explain this concisely in your own words for a \"non-statistical\" audience, defining the technical statistical terminology you use in your answer.**\n"
   ]
  },
  {
   "cell_type": "markdown",
   "id": "903e6632",
   "metadata": {},
   "source": [
    "**xᵢ's:** These are the individual data points or values in the sample (like the price of apples at different stores).\n",
    "\n",
    "**x̄ (x with a dash over it):** This is the sample mean, which is the average of all the data points we collected from the sample (like the average price of apples from the stores we sampled).\n",
    "\n",
    "**μ:** This is the population mean, or the average of every data point in the whole population (the true average price of apples in all stores, not just the ones we looked at).\n",
    "\n",
    "**μ₀:** This is the hypothesized population mean in the null hypothesis (like saying the average price of apples in New York is $1.75, which we’re testing against)"
   ]
  },
  {
   "cell_type": "markdown",
   "id": "c07a86bd",
   "metadata": {},
   "source": [
    "**3. The second \"Pre-lecture\" video (above) explains that we \"imagine a world where the null hypothesis is true\" when calculating a p-value? Explain why this is in your own words in a way that makes the most sense to you.**"
   ]
  },
  {
   "cell_type": "markdown",
   "id": "a7c0601d",
   "metadata": {},
   "source": [
    "When calculating a p-value, we \"imagine a world where the null hypothesis is true\" because we're trying to see how unusual or surprising the results we observed are, assuming the null hypothesis is correct. In other words, we start by assuming that nothing unusual is happening (that Fido didn’t get into the trash for example).\n",
    "\n",
    "Then, we calculate how likely it is to see evidence as extreme as what we got, purely by chance, in this \"normal\" world. If the p-value is very small, it means the evidence we observed is so rare in that imagined world that it starts to seem unlikely that the null hypothesis is true. This leads us to reject it and consider the alternative.\n",
    "\n",
    "So, imagining the null hypothesis being true helps us understand whether our evidence is normal or surprising in that context."
   ]
  },
  {
   "cell_type": "markdown",
   "id": "8cca02aa",
   "metadata": {},
   "source": [
    "**4. The second \"Pre-lecture\" video (above) suggests that a smaller p-value makes the null hypothesis look more ridiculous. Explain why this is in your own words in a way that makes the most sense to you, clarifying the meaning of any technical statistical terminology you use in your answer.**"
   ]
  },
  {
   "cell_type": "markdown",
   "id": "97ba4678",
   "metadata": {},
   "source": [
    "When we perform a hypothesis test, we calculate a test statistic based on our sample data. This statistic could be a value like the mean or proportion, and it gives us a way to compare our observed data to what we'd expect under the null hypothesis. Under the assumption that the null hypothesis is true, this test statistic has a known sampling distribution—essentially, a range of values the test statistic would likely fall within due to random variation.\n",
    "- The p-value is the probability of getting a test statistic at least as extreme as the one we observed, according to the sampling distribution under the null hypothesis. If the p-value is small, it means our test statistic falls far out in the tail of this distribution, which implies that such a result is highly unlikely if the null hypothesis is correct.\n",
    "\n",
    "A small p-value shows that our observed test statistic is so far from what we’d expect under the null hypothesis that it makes the null hypothesis seem implausible or “ridiculous.” This leads us to reject the null in favor of the alternative hypothesis, as the observed result appears inconsistent with the world where the null hypothesis is true."
   ]
  },
  {
   "cell_type": "markdown",
   "id": "f547ab65",
   "metadata": {},
   "source": [
    "**5. Güntürkün (2003) recorded how kissing couples tilt their heads. 80 out of 124 couples, or 64.5% tilted their heads to the right. Simulate a p-value using a \"50/50 coin-flipping\" model for the assumption of the null hypothesis that the population of humans don't have left or right head tilt tendencies when kissing, and use the table below to determine the level of evidence we have against.**"
   ]
  },
  {
   "cell_type": "markdown",
   "id": "f439e1fa",
   "metadata": {},
   "source": [
    "The simulated p-value is approximately 0.001. This means that, under the assumption of the null hypothesis (50/50 chance for tilting right or left), there is only a 0.1% chance of observing 80 or more couples tilting their heads to the right purely by random chance."
   ]
  },
  {
   "cell_type": "markdown",
   "id": "c7e09aeb",
   "metadata": {},
   "source": [
    "**Interpreting the p-value:**\n",
    "Since p < 0.05,  This is considered modeate evidence against the null hypothesis.\n",
    "Since the p-value (0.001) is far below 0.05, we have moderate evidence against the null hypothesis that humans have no head tilt preference when kissing."
   ]
  },
  {
   "cell_type": "code",
   "execution_count": 30,
   "id": "dec61135",
   "metadata": {
    "scrolled": true
   },
   "outputs": [
    {
     "name": "stdout",
     "output_type": "stream",
     "text": [
      "P-value: 0.001\n"
     ]
    }
   ],
   "source": [
    "import numpy as np\n",
    "\n",
    "# Given values\n",
    "observed_right_tilt = 80  # number of couples that tilted right\n",
    "total_couples = 124  # total number of couples\n",
    "prob_right_tilt = 0.5  # assumed 50/50 null hypothesis\n",
    "num_simulations = 10000  # number of simulations to run\n",
    "\n",
    "# Simulate the number of right tilts in each simulation\n",
    "simulations = np.random.binomial(n=total_couples, p=prob_right_tilt, size=num_simulations)\n",
    "\n",
    "# Calculate the p-value (probability of seeing as many or more right tilts as observed)\n",
    "p_value = np.mean(simulations >= observed_right_tilt)\n",
    "\n",
    "print(f\"P-value: {p_value}\")"
   ]
  },
  {
   "cell_type": "markdown",
   "id": "f2d28de9",
   "metadata": {},
   "source": [
    "**6. Can a smaller p-value definitively prove that the null hypothesis is false? Is it possible to definitively prove that Fido (from the \"second pre-lecture video\") is innocent using a p-value? Is it possible to difinitively prove that Fido is guilty using a p-value? How low or high does a p-value have to be to definitely prove one or the other? Explain this concisely in your own words.**"
   ]
  },
  {
   "cell_type": "markdown",
   "id": "1a645ce8",
   "metadata": {},
   "source": [
    "A p-value cannot definitively prove that the null hypothesis is true or false, nor can it definitively prove Fido's innocence or guilt. A low p-value suggests that the observed data is unlikely under the null hypothesis, providing evidence to reject it, but this is not absolute proof, there is always a possibility that the result occurred by chance. Conversely, a high p-value means there is insufficient evidence to reject the null hypothesis, but it does not prove innocence or correctness. P-values help us make probabilistic inferences, but they do not provide certainty."
   ]
  },
  {
   "cell_type": "markdown",
   "id": "7e29a337",
   "metadata": {},
   "source": [
    "**8. Fisher's Tea Experiment**"
   ]
  },
  {
   "cell_type": "markdown",
   "id": "0a3a52e6",
   "metadata": {},
   "source": [
    "**Problem Introduction**: \n",
    "The goal of this project is to analyze the results of an experiment similar to Fisher's famous tea experiment but using a sample of 80 STA130 students. Each student attempts to determine whether tea or milk was poured first into a cup. The interest is in whether the proportion of students who correctly identify the pouring order is significantly different from what would be expected by random guessing (which is 50%).\n",
    "\n",
    "Out of 80 students, 49 correctly identified the pouring order, giving us an observed success rate of 61.25%. Our objective is to assess whether this result could be due to random chance or whether it suggests that students can genuinely differentiate the pouring order.\n",
    "\n",
    "**Population, Sample, and Parameter of Interest**\n",
    "\n",
    "Population: All STA130 students, representing individuals who can attempt to differentiate the pouring order.\n",
    "Sample: 80 STA130 students who participated in the experiment.\n",
    "\n",
    "Parameter of Interest: The probability 𝑝 that an STA130 student can correctly identify the pouring order.\n",
    "\n",
    "**Relationship Between This Experiment and Fisher’s Original Tea Experiment**\n",
    "\n",
    "Fisher’s experiment involved a single person, Dr. Muriel Bristol, who claimed to be able to distinguish whether milk or tea was poured first. In contrast, the STA130 experiment involves a larger sample of students (80 in total), where the assumption is that the students are guessing at random unless proven otherwise.\n",
    "\n",
    "The nature of the population also differs. Dr. Bristol's claim was specific to her abilities, while the STA130 experiment represents a general group of students, potentially making the parameter of interest more abstract.\n",
    "\n",
    "In Fisher’s original experiment, Dr. Bristol claimed to distinguish between tea poured first and milk poured first. Fisher proposed a hypothesis test to see whether her success could be attributed to chance. In this experiment with STA130 students, we hypothesize whether their success rate is due to chance or if there’s evidence they can correctly identify the pouring order.\n",
    "\n",
    "**Hypotheses**\n",
    "- Null Hypothesis (H₀): The students are guessing randomly, meaning the probability 𝑝 of correctly identifying whether milk or tea was poured first is 0.5\n",
    "- 𝐻0:𝑝 = 0.5\n",
    "- In simpler terms, the students are just guessing, and any deviation from 50% correctness is due to chance\n",
    "\n",
    "- Alternative Hypothesis (H₁): The students have some ability to identify whether milk or tea was poured first, so the probability 𝑝 of a correct identification is different from 0.5.\n",
    "- 𝐻1:𝑝≠0.5\n",
    "- In simpler terms the students are better than random guessing at identifying the correct order."
   ]
  },
  {
   "cell_type": "markdown",
   "id": "6d811783",
   "metadata": {},
   "source": [
    "**Quantitative Analysis**"
   ]
  },
  {
   "cell_type": "markdown",
   "id": "b20bb7f1",
   "metadata": {},
   "source": [
    "**Quantitative Analysis and Methodology**\n",
    "To evaluate the validity of the null hypothesis, we can perform a simulation under the null hypothesis using the following steps:\n",
    "- Simulate 80 “guesses” from a population where each guess has a 50% chance of being correct.\n",
    "- Repeat this simulation many times to build a distribution of the number of correct responses assuming random guessing.\n",
    "- Determine the p-value as the proportion of simulations where the number of correct responses is at least 49.\n",
    "- Assess the strength of the evidence against the null hypothesis by comparing the p-value to a significance threshold (e.g., 0.05).\n",
    "**Binomial Test:** This will assess the probability of observing 49 or more correct identifications under the assumption that the true probability 𝑝 is 0.5 (random guessing).\n",
    "\n",
    "**Confidence Interval:** We’ll construct a 95% confidence interval for the observed proportion to see whether it includes 0.5."
   ]
  },
  {
   "cell_type": "markdown",
   "id": "1b0cd32c",
   "metadata": {},
   "source": [
    "**Binomial Test Methodology:**\n",
    "The binomial test calculates the likelihood of observing x=49 or more successes (correct identifications) out of n=80 trials, assuming a success probability of p=0.5 (random guessing). This provides a p-value which will help determine whether to reject the null hypothesis."
   ]
  },
  {
   "cell_type": "code",
   "execution_count": 46,
   "id": "81e67a88",
   "metadata": {},
   "outputs": [
    {
     "data": {
      "text/plain": [
       "0.024"
      ]
     },
     "execution_count": 46,
     "metadata": {},
     "output_type": "execute_result"
    }
   ],
   "source": [
    "import numpy as np\n",
    "\n",
    "# Set seed for reproducibility\n",
    "np.random.seed(121)\n",
    "\n",
    "# Parameters\n",
    "n_students = 80\n",
    "observed_correct = 49\n",
    "p_guess = 0.5\n",
    "n_simulations = 1000\n",
    "\n",
    "# Simulate the experiment under the null hypothesis of random guessing (p = 0.5)\n",
    "simulated_correct_counts = np.random.binomial(n_students, p_guess, n_simulations)\n",
    "\n",
    "# Calculate the p-value\n",
    "p_value = np.mean(simulated_correct_counts >= observed_correct)\n",
    "\n",
    "# Output the p-value\n",
    "p_value"
   ]
  },
  {
   "cell_type": "markdown",
   "id": "4f645f37",
   "metadata": {},
   "source": [
    "**Confidence Interval**:\n",
    "\n",
    "The confidence interval provides a range of plausible values for the true proportion of students who can correctly identify the pouring order. If the confidence interval does not include 0.5, this would suggest evidence against random guessing."
   ]
  },
  {
   "cell_type": "code",
   "execution_count": 3,
   "id": "a754342c",
   "metadata": {},
   "outputs": [
    {
     "name": "stdout",
     "output_type": "stream",
     "text": [
      "95% Confidence Interval: (0.5057, 0.7193)\n"
     ]
    }
   ],
   "source": [
    "import statsmodels.api as sm\n",
    "\n",
    "# Calculate the 95% confidence interval for the proportion\n",
    "ci_lower, ci_upper = sm.stats.proportion_confint(x, n, alpha=0.05, method='normal')\n",
    "print(f\"95% Confidence Interval: ({ci_lower:.4f}, {ci_upper:.4f})\")"
   ]
  },
  {
   "cell_type": "code",
   "execution_count": 17,
   "id": "4aabc06c",
   "metadata": {},
   "outputs": [
    {
     "data": {
      "image/png": "[encoded data removed]",
      "text/plain": [
       "<Figure size 640x480 with 1 Axes>"
      ]
     },
     "metadata": {},
     "output_type": "display_data"
    }
   ],
   "source": [
    "import matplotlib.pyplot as plt\n",
    "\n",
    "# Simulate the sampling distribution under the null hypothesis (p = 0.5)\n",
    "np.random.seed(42)\n",
    "simulations = np.random.binomial(n, p_null, size=10000)\n",
    "\n",
    "# Plot the distribution of the simulations\n",
    "plt.hist(simulations, bins=15, color='lightblue', edgecolor='black')\n",
    "plt.axvline(x=x, color='red', linestyle='--', label='Observed 49 correct')\n",
    "plt.title('Sampling Distribution under H0')\n",
    "plt.xlabel('Number of Correct Identifications')\n",
    "plt.ylabel('Frequency')\n",
    "plt.legend()\n",
    "plt.show()"
   ]
  },
  {
   "cell_type": "markdown",
   "id": "87c77409",
   "metadata": {},
   "source": [
    "**Findings and Discussion:**\n",
    "\n",
    "With a p-value of 0.024, we have evidence to suggest that it is unlikely the observed result of 49 correct responses out of 80 students occurred by random chance alone under the null hypothesis of p = 0.5. Since this p-value is below the common significance level threshold of 0.05, we would reject the null hypothesis.\n",
    "\n",
    "Rejecting the null hypothesis here implies that the students' ability to correctly identify the pouring order is statistically significant at the 5% level. In other words, the result suggests that the students may indeed have some ability to discern whether milk or tea was poured first, rather than simply guessing."
   ]
  },
  {
   "cell_type": "markdown",
   "id": "2ce6c9b5",
   "metadata": {},
   "source": [
    "**Conclusion:** \n",
    "\n",
    "The p-value of 0.024 provides enough evidence to conclude that there may be a real effect present—that the students were not merely guessing. This aligns with Fisher’s original intent in the tea experiment to determine whether Dr. Bristol could truly taste the difference. Similarly, the STA130 students might possess a detectable ability, at least beyond what we would expect from random guessing."
   ]
  },
  {
   "cell_type": "markdown",
   "id": "a9088b8d",
   "metadata": {},
   "source": [
    "https://chatgpt.com/c/670eff5a-4120-8013-b6ea-bfeef9eb4ac1"
   ]
  },
  {
   "cell_type": "markdown",
   "id": "6287846c",
   "metadata": {},
   "source": [
    "**CHAT GPT SUMMARY**\n",
    "Topics Covered:\n",
    "Fisher's Tea Experiment:\n",
    "\n",
    "We discussed the famous tea experiment by Ronald Fisher and Dr. Muriel Bristol, where Bristol claimed to distinguish whether tea or milk was poured first. Fisher designed a hypothesis test to assess whether Bristol's ability was due to chance.\n",
    "Statistical Analysis of the STA130 Students' Experiment:\n",
    "\n",
    "We applied a similar statistical analysis to an experiment with 80 STA130 students who tasted a cup of tea and identified whether milk or tea was poured first. Out of 80 students, 49 correctly identified the pouring order.\n",
    "The objective was to test whether the proportion of correct responses is significantly different from random guessing.\n",
    "Data Analysis Approach:\n",
    "\n",
    "Null Hypothesis (H₀): The students are guessing randomly, so the probability \n",
    "𝑝\n",
    "p of a correct response is 0.5.\n",
    "Alternative Hypothesis (H₁): The probability \n",
    "𝑝\n",
    "p is not 0.5, suggesting the students can differentiate the pouring order.\n",
    "We explored two approaches to analyzing the data:\n",
    "Binomial Test: To test the significance of the observed success rate (49 correct responses out of 80).\n",
    "Confidence Interval: To calculate a 95% confidence interval for the observed proportion and check if it includes 0.5 (indicating random guessing).\n",
    "Code & Explanation:\n",
    "\n",
    "You were provided with Python code using binomtest from SciPy for the binomial test and proportion_confint from StatsModels to calculate the confidence interval.\n",
    "We also discussed an optional simulation approach to visualize the sampling distribution under the null hypothesis using random binomial distributions.\n",
    "Deprecation Warning:\n",
    "\n",
    "You encountered a deprecation warning with binom_test, which has been replaced by binomtest in newer versions of SciPy. We updated the code accordingly.\n",
    "Findings and Conclusion:\n",
    "\n",
    "The analysis aims to determine if the observed number of correct responses is statistically significant, indicating that students can distinguish the pouring order better than random chance.\n",
    "The conclusions are based on the p-value and confidence interval:\n",
    "Reject the null hypothesis if the p-value is small (below 0.05) and the confidence interval does not include 0.5.\n",
    "Fail to reject the null hypothesis if the p-value is large and the confidence interval includes 0.5, meaning the results could be due to random guessing.\n",
    "Report Structure:\n",
    "\n",
    "The deliverables you are working towards include:\n",
    "Clarity of documentation and code.\n",
    "Description of population, sample, and parameter of interest.\n",
    "Formal hypotheses and their informal explanations.\n",
    "Quantitative analysis and an explanation of the statistical methods used.\n",
    "Visualizations (optional) to support your findings.\n",
    "This provides a comprehensive overview of your statistical analysis for the STA130 students' experiment, mirroring the famous tea experiment by Fisher."
   ]
  }
 ],
 "metadata": {
  "kernelspec": {
   "display_name": "Python 3 (ipykernel)",
   "language": "python",
   "name": "python3"
  },
  "language_info": {
   "codemirror_mode": {
    "name": "ipython",
    "version": 3
   },
   "file_extension": ".py",
   "mimetype": "text/x-python",
   "name": "python",
   "nbconvert_exporter": "python",
   "pygments_lexer": "ipython3",
   "version": "3.11.6"
  }
 },
 "nbformat": 4,
 "nbformat_minor": 5
}
