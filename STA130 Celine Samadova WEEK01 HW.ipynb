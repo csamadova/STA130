{
 "cells": [
  {
   "cell_type": "code",
   "execution_count": 6,
   "id": "d1521f98",
   "metadata": {},
   "outputs": [
    {
     "data": {
      "text/plain": [
       "row_n           0\n",
       "id              1\n",
       "name            0\n",
       "gender          0\n",
       "species         0\n",
       "birthday        0\n",
       "personality     0\n",
       "song           11\n",
       "phrase          0\n",
       "full_id         0\n",
       "url             0\n",
       "dtype: int64"
      ]
     },
     "execution_count": 6,
     "metadata": {},
     "output_type": "execute_result"
    }
   ],
   "source": [
    "import pandas as pd\n",
    "url = \"https://raw.githubusercontent.com/rfordatascience/tidytuesday/master/data/2020/2020-05-05/villagers.csv\"\n",
    "df = pd.read_csv(url)\n",
    "df.isna().sum()\n",
    "\n",
    "\n",
    "\n"
   ]
  },
  {
   "cell_type": "code",
   "execution_count": 2,
   "id": "b8ef9b1d",
   "metadata": {},
   "outputs": [
    {
     "name": "stdout",
     "output_type": "stream",
     "text": [
      "Number of rows: 391\n",
      "Number of columns: 11\n"
     ]
    }
   ],
   "source": [
    "# Print the number of rows and columns\n",
    "print(f'Number of rows: {df.shape[0]}')\n",
    "print(f'Number of columns: {df.shape[1]}')"
   ]
  },
  {
   "cell_type": "code",
   "execution_count": 12,
   "id": "b0454cde",
   "metadata": {},
   "outputs": [
    {
     "name": "stdout",
     "output_type": "stream",
     "text": [
      "Basic Information:\n",
      "<class 'pandas.core.frame.DataFrame'>\n",
      "RangeIndex: 7 entries, 0 to 6\n",
      "Data columns (total 2 columns):\n",
      " #   Column      Non-Null Count  Dtype  \n",
      "---  ------      --------------  -----  \n",
      " 0   City        7 non-null      object \n",
      " 1   Population  7 non-null      float64\n",
      "dtypes: float64(1), object(1)\n",
      "memory usage: 244.0+ bytes\n",
      "None\n",
      "\n",
      "Summary Statistics for Numerical Columns:\n",
      "       Population\n",
      "count    7.000000\n",
      "mean     4.714286\n",
      "std      2.647281\n",
      "min      2.600000\n",
      "25%      2.750000\n",
      "50%      3.900000\n",
      "75%      6.200000\n",
      "max      8.600000\n",
      "\n",
      "Value Counts for Categorical Columns:\n",
      "\n",
      "City Value Counts:\n",
      "City\n",
      "Chicago        3\n",
      "New York       2\n",
      "Los Angeles    2\n",
      "Name: count, dtype: int64\n",
      "\n",
      "Missing Values Count:\n",
      "City          0\n",
      "Population    0\n",
      "dtype: int64\n"
     ]
    }
   ],
   "source": [
    "# Print basic information about the dataset\n",
    "print(\"Basic Information:\")\n",
    "print(df.info())\n",
    "\n",
    "# Print summary statistics for numerical columns\n",
    "print(\"\\nSummary Statistics for Numerical Columns:\")\n",
    "print(df.describe())\n",
    "\n",
    "# Print summary statistics for categorical columns\n",
    "print(\"\\nValue Counts for Categorical Columns:\")\n",
    "for column in df.select_dtypes(include='object').columns:\n",
    "    print(f\"\\n{column} Value Counts:\")\n",
    "    print(df[column].value_counts(dropna=False))\n",
    "\n",
    "# Print missing values count for each column\n",
    "print(\"\\nMissing Values Count:\")\n",
    "print(df.isnull().sum())"
   ]
  },
  {
   "cell_type": "markdown",
   "id": "0f064c6d",
   "metadata": {},
   "source": [
    "df.describe gives me number based insights for the number based columns and df. shape tells me all of the columns so it would just include everything, not just numbers"
   ]
  },
  {
   "cell_type": "markdown",
   "id": "28b71ccb",
   "metadata": {},
   "source": [
    "an attribute such as df.shape is just a piece of information that doesnt require any computation to obtain while a method like df.describe has to be called to get results. it gives all the summaries regarding the statistics of the data.\n"
   ]
  },
  {
   "cell_type": "markdown",
   "id": "705ac4c6",
   "metadata": {},
   "source": [
    "summary of chat log:"
   ]
  },
  {
   "cell_type": "markdown",
   "id": "7564f17d",
   "metadata": {},
   "source": [
    "#Dataset with Missing Values:\n",
    "\n",
    "#Dataset: \"People Who Have Won Multiple Nobel Prizes\".\n",
    "#Link: raw.githubusercontent.com/datasciencedojo/datasets/master/Nobel%20Prize%20Winners%20with%20Multiple%20Prizes/nobel_prizes_multiple.csv.\n",
    "#Using Pandas to Print Number of Rows and Columns:\n",
    "\n",
    "#Code:\n",
    "#python\n",
    "#Copy code\n",
    "import pandas as pd\n",
    "\n",
    "url = 'https://raw.githubusercontent.com/datasciencedojo/datasets/master/Nobel%20Prize%20Winners%20with%20Multiple%20Prizes/nobel_prizes_multiple.csv'\n",
    "df = pd.read_csv(url)\n",
    "\n",
    "print(f'Number of rows: {df.shape[0]}')\n",
    "print(f'Number of columns: {df.shape[1]}')\n",
    "#Providing Simple Summaries of Columns:\n",
    "\n",
    "#Code:\n",
    "#python\n",
    "#Copy code\n",
    "import pandas as pd\n",
    "\n",
    "url = 'https://raw.githubusercontent.com/datasciencedojo/datasets/master/Nobel%20Prize%20Winners%20with%20Multiple%20Prizes/nobel_prizes_multiple.csv'\n",
    "df = pd.read_csv(url)\n",
    "\n",
    "print(\"Basic Information:\")\n",
    "print(df.info())\n",
    "\n",
    "print(\"\\nSummary Statistics for Numerical Columns:\")\n",
    "print(df.describe())\n",
    "\n",
    "print(\"\\nValue Counts for Categorical Columns:\")\n",
    "for column in df.select_dtypes(include='object').columns:\n",
    "    print(f\"\\n{column} Value Counts:\")\n",
    "    print(df[column].value_counts(dropna=False))\n",
    "\n",
    "print(\"\\nMissing Values Count:\")\n",
    "print(df.isnull().sum())\n",
    "#Difference Between Attributes and Methods in Pandas:\n",
    "\n",
    "#Attribute:\n",
    "#Definition: A piece of information about the DataFrame.\n",
    "#Usage: Accessed without parentheses (e.g., df.shape).\n",
    "#Example: df.shape shows the number of rows and columns.\n",
    "#Method:\n",
    "#Definition: An action or computation performed on the DataFrame.\n",
    "#Usage: Accessed with parentheses (e.g., df.describe()).\n",
    "#Example: df.describe() provides statistical summaries of numerical data.\n",
    "#Simplified Summary:\n",
    "#Attributes provide static information about a DataFrame (e.g., its size) without extra action.\n",
    "#Methods perform actions or calculations on a DataFrame (e.g., generating statistical summaries) and require parentheses.\n"
   ]
  },
  {
   "cell_type": "markdown",
   "id": "0ff4fecf",
   "metadata": {},
   "source": [
    "count is how many values are present"
   ]
  },
  {
   "cell_type": "markdown",
   "id": "c7073b5f",
   "metadata": {},
   "source": [
    "mean is average values"
   ]
  },
  {
   "cell_type": "markdown",
   "id": "218b6257",
   "metadata": {},
   "source": [
    "standard deviation is a measure of the amount of variation or dispersion in the values"
   ]
  },
  {
   "cell_type": "markdown",
   "id": "72a91285",
   "metadata": {},
   "source": [
    "min is the smallest value"
   ]
  },
  {
   "cell_type": "markdown",
   "id": "80fbc2fa",
   "metadata": {},
   "source": [
    "25% is the value below which 25% falls"
   ]
  },
  {
   "cell_type": "markdown",
   "id": "83dccb78",
   "metadata": {},
   "source": [
    "50% is the median "
   ]
  },
  {
   "cell_type": "markdown",
   "id": "f024d3b8",
   "metadata": {},
   "source": [
    "75% is the value below which 75% of the data falls"
   ]
  },
  {
   "cell_type": "markdown",
   "id": "3c2d6567",
   "metadata": {},
   "source": [
    "max is the largest value"
   ]
  },
  {
   "cell_type": "markdown",
   "id": "26710a74",
   "metadata": {},
   "source": [
    "1. **Use case for df.dropna()** instead of del df [.col] : youre given a data set containing customer survey \n",
    "responses however some columns have missing values. the columns include age, gender, customer id, and \n",
    "purchase amount. you want to see the correlation between gender and purchase amount to understand how\n",
    "gender can influence drinking behaviours, however some purchase amount entries are missing."
   ]
  },
  {
   "cell_type": "markdown",
   "id": "639741ea",
   "metadata": {},
   "source": [
    "** Use case for del.df'col'** youre given a data set of employee records with columns like employee id, name,\n",
    "salary, and bonus. however the bonus column has too much missing data and isnt that useful for analysis , so you\n",
    "decide to remove it. this overall simplifies the data frame."
   ]
  },
  {
   "cell_type": "markdown",
   "id": "1d91284d",
   "metadata": {},
   "source": [
    "** Applying del.df 'col' before df. dropna()** if one of my data sets has a high volume of missing data sets\n",
    "im better off deleting it as it doesnt contribute to my analysis. as it simplifies the data frame and once i use\n",
    "df.dropna() i will be able to handle the missing values in relevant columns more efficiently."
   ]
  },
  {
   "cell_type": "markdown",
   "id": "b329715d",
   "metadata": {},
   "source": [
    "del df['col'] removes the entire column while df.dropna() gets rid of everything entirely"
   ]
  },
  {
   "cell_type": "code",
   "execution_count": 10,
   "id": "ba33607c",
   "metadata": {},
   "outputs": [
    {
     "name": "stdout",
     "output_type": "stream",
     "text": [
      "          City  Population\n",
      "0     New York         8.6\n",
      "1     New York         8.4\n",
      "2  Los Angeles         4.0\n",
      "3  Los Angeles         3.9\n",
      "4      Chicago         2.7\n",
      "5      Chicago         2.8\n",
      "6      Chicago         2.6\n"
     ]
    }
   ],
   "source": [
    "import pandas as pd\n",
    "\n",
    "# Create a sample DataFrame\n",
    "data = {\n",
    "    'City': ['New York', 'New York', 'Los Angeles', 'Los Angeles', 'Chicago', 'Chicago', 'Chicago'],\n",
    "    'Population': [8.6, 8.4, 4.0, 3.9, 2.7, 2.8, 2.6]\n",
    "}\n",
    "\n",
    "df = pd.DataFrame(data)\n",
    "\n",
    "# View the DataFrame\n",
    "print(df)"
   ]
  },
  {
   "cell_type": "code",
   "execution_count": 17,
   "id": "f5d55831",
   "metadata": {},
   "outputs": [
    {
     "ename": "NameError",
     "evalue": "name 'Population' is not defined",
     "output_type": "error",
     "traceback": [
      "\u001b[0;31m---------------------------------------------------------------------------\u001b[0m",
      "\u001b[0;31mNameError\u001b[0m                                 Traceback (most recent call last)",
      "Cell \u001b[0;32mIn[17], line 2\u001b[0m\n\u001b[1;32m      1\u001b[0m \u001b[38;5;66;03m# Group by 'City' and describe 'Population'\u001b[39;00m\n\u001b[0;32m----> 2\u001b[0m grouped_summary \u001b[38;5;241m=\u001b[39m df\u001b[38;5;241m.\u001b[39mgroupby(\u001b[38;5;124m'\u001b[39m\u001b[38;5;124mCity\u001b[39m\u001b[38;5;124m'\u001b[39m)[\u001b[43mPopulation\u001b[49m]\u001b[38;5;241m.\u001b[39mdescribe()\n\u001b[1;32m      4\u001b[0m \u001b[38;5;66;03m# View the grouped summary statistics\u001b[39;00m\n\u001b[1;32m      5\u001b[0m \u001b[38;5;28mprint\u001b[39m(grouped_summary)\n",
      "\u001b[0;31mNameError\u001b[0m: name 'Population' is not defined"
     ]
    }
   ],
   "source": [
    "# Group by 'City' and describe 'Population'\n",
    "grouped_summary = df.groupby('City')['Population'].describe()\n",
    "\n",
    "# View the grouped summary statistics\n",
    "print(grouped_summary)"
   ]
  },
  {
   "cell_type": "markdown",
   "id": "d874ea45",
   "metadata": {},
   "source": [
    "df.describe gives the total count including missing data while df.groupby(\"col1\")[\"col2\"] would be similar to dropna.count for the total counts as it excludes missing data. "
   ]
  },
  {
   "cell_type": "markdown",
   "id": "43af6af4",
   "metadata": {},
   "source": [
    "QUESTION 3A - It wouldve been easier to search this up. Although ChatGPT gave me the answer it wouldve been more efficient to search this up on Google."
   ]
  },
  {
   "cell_type": "markdown",
   "id": "bb6d3e9a",
   "metadata": {},
   "source": [
    "QUESTION 3B - I feel that ChatGPT wouldve been more helpful compared to Google in this scenario as we were already working with the ChatGPT so it wouldve been familiar with the name of the dataform."
   ]
  },
  {
   "cell_type": "markdown",
   "id": "a16a5d3c",
   "metadata": {},
   "source": [
    "QUESTION 3C - I think ChatGPT wouldve been more effective"
   ]
  },
  {
   "cell_type": "markdown",
   "id": "f646000c",
   "metadata": {},
   "source": [
    "QUESTION 3D - Google wouldve been quicker as it was a small syntax error "
   ]
  },
  {
   "cell_type": "markdown",
   "id": "ae5b57c4",
   "metadata": {},
   "source": [
    "QUESTION 3E - ChatGPT was more helpful as it pointed out the error"
   ]
  },
  {
   "cell_type": "markdown",
   "id": "4b5be80c",
   "metadata": {},
   "source": [
    "QUESTION 3F - ChatGPT also pointed out the error and gave a detailed explanation on what was wrong. "
   ]
  },
  {
   "cell_type": "markdown",
   "id": "eba39857",
   "metadata": {},
   "source": [
    "QUESTION 3G - Again, ChatGPT was more helpful with specific syntax fixing"
   ]
  },
  {
   "cell_type": "markdown",
   "id": "6096e845",
   "metadata": {},
   "source": [
    "Certainly! Here's a summary of the key concepts and solutions discussed:\n",
    "\n",
    "1. df.describe() vs. df.groupby(\"col1\")[\"col2\"].describe()\n",
    "df.describe():\n",
    "\n",
    "Provides summary statistics for numerical columns in the entire DataFrame.\n",
    "count reflects the number of non-missing values in each column.\n",
    "Includes statistics like mean, standard deviation, min, max, and quartiles.\n",
    "df.groupby(\"col1\")[\"col2\"].describe():\n",
    "\n",
    "Groups data by unique values in \"col1\" and provides summary statistics for \"col2\" within each group.\n",
    "count reflects the number of non-missing values for \"col2\" within each group defined by \"col1\".\n",
    "2. Common Errors and Fixes\n",
    "NameError:\n",
    "\n",
    "Occurs when a variable or function name is used incorrectly.\n",
    "Fix: Ensure correct spelling and case sensitivity. For example, use df instead of DF.\n",
    "FileNotFoundError:\n",
    "\n",
    "Happens when the file path or name is incorrect.\n",
    "Fix: Verify the file path and name, or use a correct URL if loading from the web.\n",
    "KeyError:\n",
    "\n",
    "Indicates a column name used does not exist in the DataFrame.\n",
    "Fix: Verify column names with df.columns and ensure accurate spelling and case.\n",
    "AttributeError:\n",
    "\n",
    "Occurs when calling a non-existent method.\n",
    "Fix: Correct method name, e.g., describe() instead of describle().\n",
    "Syntax Errors:\n",
    "\n",
    "Often due to unclosed parentheses or brackets.\n",
    "Fix: Ensure all parentheses, brackets, and braces are correctly closed.\n",
    "3. General Tips\n",
    "Check Column Names: Use df.columns to see available columns and ensure you use the correct names.\n",
    "Verify Data Loading: Make sure data is loaded correctly by checking the first few rows with df.head().\n",
    "Handle Missing Values: Use df.isna().sum() to identify missing values in your data.\n",
    "Example Code\n",
    "Here’s an example of loading data, checking for missing values, and summarizing:\n",
    "\n",
    "python\n",
    "Copy code\n",
    "import pandas as pd\n",
    "\n",
    "\\# Load the dataset from URL\n",
    "url = \"https://raw.githubusercontent.com/rfordatascience/tidytuesday/master/data/2020/2020-05-05/villagers.csv\"\n",
    "df = pd.read_csv(url)\n",
    "\n",
    "\\# Print basic information about the dataset\n",
    "print(\"Basic Information:\")\n",
    "print(df.info())\n",
    "\n",
    "\\# Print summary statistics for numerical columns\n",
    "print(\"\\nSummary Statistics for Numerical Columns:\")\n",
    "print(df.describe())\n",
    "\n",
    "\\# Check for missing values\n",
    "print(\"\\nMissing Values:\")\n",
    "print(df.isna().sum())\n",
    "\n",
    "\\# Print column names\n",
    "print(\"\\nColumn Names:\")\n",
    "print(df.columns)\n",
    "\n",
    "\\# Group by 'City' and describe 'Population'\n",
    "grouped_summary = df.groupby('City')['Population'].describe()\n",
    "print(\"\\nGrouped Summary Statistics:\")\n",
    "print(grouped_summary)\n",
    "This code demonstrates how to load data, check its structure and content, and analyze it using basic pandas methods."
   ]
  },
  {
   "cell_type": "markdown",
   "id": "c18c4316",
   "metadata": {},
   "source": [
    "LINK https://chatgpt.com/c/66e24b7a-caa0-8013-aa18-3331d8e4e823"
   ]
  }
 ],
 "metadata": {
  "kernelspec": {
   "display_name": "Python 3 (ipykernel)",
   "language": "python",
   "name": "python3"
  },
  "language_info": {
   "codemirror_mode": {
    "name": "ipython",
    "version": 3
   },
   "file_extension": ".py",
   "mimetype": "text/x-python",
   "name": "python",
   "nbconvert_exporter": "python",
   "pygments_lexer": "ipython3",
   "version": "3.11.6"
  }
 },
 "nbformat": 4,
 "nbformat_minor": 5
}
