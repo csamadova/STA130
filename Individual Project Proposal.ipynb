{
 "cells": [
  {
   "cell_type": "markdown",
   "id": "4f442cf0",
   "metadata": {},
   "source": [
    "**RESEARCH QUESTION NUMBER ONE: *How does the frequency of different types of social interactions (e.g., board games, coffee meetups, video chats) correlate with reported feelings of loneliness among participants?***"
   ]
  },
  {
   "cell_type": "markdown",
   "id": "b266ea47",
   "metadata": {},
   "source": [
    "**VARIABLES:**\n",
    "- **CONNECTION_activities_coffee_pm , CONNECTION_activities_board_games_pm, CONNECTION_activities_group_video_chat_pm are included in Social Interactions.**\n",
    "    - daily, a few times a week, weekly, a few times a month, monthly, less than monthly, not in the past three months represents the frequency with which participants engage in each activity. \n",
    "        - These variables show the frequency of different social interactions\n",
    "- Loneliness Score: With the **\"LONELY_ucla_loneliness_scale_isolated\"** variable, which is a self-reported score. - hardly ever, some of the time, often - assesses participants’ feelings of being isolated from others.\n",
    "    - This variable provides a outcome measure for loneliness, which is the main focus of the question. \n",
    "**Useful Visualizations**\n",
    "A box plot would be the best fit. It would help us identify any potential trends or outliers. Box plots show the spread of loneliness scores within each frequency category and will present any significant differences and extreme scores."
   ]
  },
  {
   "cell_type": "markdown",
   "id": "7e61cb6e",
   "metadata": {},
   "source": [
    "**ANALYSIS**\n",
    "\n",
    "For this research question, regression analysis would likely be the best fit because it allows me to analyze the relationship between the frequency of different types of social interactions (predictors) and loneliness scores (outcome variable). Regression also allows me to examine multiple types of social interactions (e.g., board games, coffee meetups, video chats) and determine each one’s association with loneliness\n",
    "\n",
    "**Assumptions:**\n",
    " **Linearity**: Check if there is a linear relationship between the independent variable (frequency of interactions) and the dependent variable (loneliness score). **Independence:** Ensure that observations are independent of each other, and **Normality:** For linear regression, check that the residuals are approximately normally distributed. This can be assessed using Q-Q plots.\n",
    " \n",
    "**HYPOTHESIS**\n",
    "- Null Hypothesis (H0): There is no significant correlation between the frequency of different types of social interactions (e.g., board games, coffee meetups, video chats) and reported feelings of loneliness among participants. In other words, increased frequency of social interactions does not lead to a reduction in loneliness scores.\n",
    "\n",
    "- Alternative Hypothesis (H1): There is a significant negative correlation between the frequency of different types of social interactions (e.g., board games, coffee meetups, video chats) and reported feelings of loneliness among participants. This suggests that as the frequency of social interactions increases, loneliness scores decrease, indicating that more frequent social interactions are associated with lower levels of loneliness."
   ]
  },
  {
   "cell_type": "markdown",
   "id": "4814f78f",
   "metadata": {},
   "source": [
    "**RESEARCH QUESTION NUMBER TWO: *Is there an association between the number of close friends and feelings of emotional loneliness?***\n",
    "\n",
    "**VARIABLES**\n",
    "- **CONNECTION_social_num_close_friends_groupeds**: This variable measures the quantity of close friends a participant has categorized into three groups: 1-2 close friends, 3-4 close friends or 5 or more close friends\n",
    "     \n",
    "**Visualization** : A bar chart would be effective for this variable.\n",
    "Explanation: A bar chart would display the frequency of participants within each category (1-2, 3-4, and 5 or more close friends). This visualization allows for easy comparison between the different groups and can highlight trends in the distribution of close friendships among participants.\n",
    "\n",
    "- **Feelings of Emotional Loneliness**: LONELY_ucla_loneliness_scale_isolated shows the participants' feelings of emotional loneliness through a self-reported score that ranges from: Hardly ever, Some of the time, and Often\n",
    "    \n",
    "**Visualization** : A bar chart again would be the best fit to visualize the scores and their frequencies. The emotional loneliness scores—rated as \"hardly ever,\" \"some of the time,\" and \"often\" are all categorical data. A bar chart is well suited to display these categories, making it easy to visualize how many participants fall into each emotional loneliness category.\n",
    "\n",
    "**ANALYSIS** \n",
    "\n",
    "Because the research question aims to see whether there is an association between the number of close friends and feelings of emotional loneliness. Both variables are categorical and given these variables, regression analysis is appropriate because it allows for the examination of relationships between dependent and independent variables, including the possibility of ordinal outcomes.\n",
    "\n",
    "**Emotional Loneliness Score=β \n",
    "0\n",
    "​\n",
    " +β \n",
    "1\n",
    "​\n",
    " (Number of Close Friends)+ϵ**\n",
    " \n",
    "**Assumptions**\n",
    "- Linearity, the relationship between the independent variable (number of close friends) and the dependent variable (feelings of emotional loneliness) is linear. This means that as the number of close friends increases or decreases, the feelings of loneliness should change in a consistent manner.\n",
    "\n",
    "- Independence of Errors: The residuals (errors) of the model are independent. Each participant’s response should be unique and unaffected by others.\n",
    "\n",
    "- Sufficient Sample Size: There should be a sufficient number of observations to provide reliable estimates. A larger sample size improves the reliability of the regression analysis.\n",
    "\n",
    "**HYPOTHESIS**\n",
    "\n",
    "Null Hypothesis (H0):\n",
    "There is no significant association between the number of close friends and feelings of emotional loneliness.\n",
    "In other words, variations in the number of close friends do not affect the reported levels of emotional loneliness among participants.\n",
    "\n",
    "Alternative Hypothesis (H1):\n",
    "There is a significant association between the number of close friends and feelings of emotional loneliness.\n",
    "This suggests that as the number of close friends increases or decreases, the feelings of emotional loneliness will also change (either increasing or decreasing)."
   ]
  },
  {
   "cell_type": "markdown",
   "id": "42f018f2",
   "metadata": {},
   "source": [
    "**RESEARCH QUESTION NUMBER THREE: *Is there a significant difference in loneliness levels between individuals who frequently participate in physical exercise and those who frequently play computer games a few times a week?***\n",
    "\n",
    "**VARIABLES**\n",
    "- **Type of activity (Independant Variable)**\n",
    "    - Group 1: CONNECTION_activities_group_exercise_p3m  Individuals who frequently participate in physical exercise (several times a week).\n",
    "    - Group 2: CONNECTION_activities_computer_games_p3m Individuals who frequently play computer games (e.g., play several times a week)\n",
    " **Visualization**: A bar chart allows for a clear comparison of the number of individuals in each activity category, making it easy to visualize the distribution of participants between the two groups.\n",
    " \n",
    "\n",
    "- **Loneliness Score (Dependent Variable):** LONELY_ucla_loneliness_scale_isolated \n",
    "    - hardly ever\n",
    "    - some of the time\n",
    "    - often\n",
    " \n",
    "**Visualization**: As said before, a bar chart would be suitable but a box plot could also work in this scenario. A box plot shows the distribution of loneliness scores within each group (physical exercise participants vs. online gamers). It can show the median, quartiles, and any potential outliers in loneliness levels, allowing for a visual comparison of how loneliness differs between the two activities."
   ]
  },
  {
   "cell_type": "markdown",
   "id": "d1004a0c",
   "metadata": {},
   "source": [
    "**ANALYSIS**\n",
    "\n",
    "- We are investigating whether there is a significant difference in loneliness levels between individuals who frequently participate in physical exercise and those who frequently play online games. The goal is to determine if these two types of activities have different impacts on reported feelings of loneliness.\n",
    "- Bootstrapping involves repeatedly sampling from the existing data on loneliness scores for both groups—those who exercise and those who game. By creating many bootstrap samples (typically thousands), we can approximate the distribution of the statistic (e.g., mean loneliness score) without making assumptions about the underlying population distribution.\n",
    "\n",
    "**Assumptions**\n",
    "- Independent Observations: The observations within each group (exercise and gaming) must be independent of one another.\n",
    "- Variability in Data: There should be enough variability in loneliness scores within each group to allow for meaningful comparisons. If all individuals report the same score, bootstrapping would not provide useful information.\n",
    "\n",
    "**HYPOTHESIS**\n",
    "\n",
    "Null Hypothesis (\n",
    "𝐻\n",
    "0\n",
    "​\n",
    " ):\n",
    "There is no significant difference in loneliness levels between individuals who frequently participate in physical exercise and those who frequently play online games.\n",
    "\n",
    "Alternative Hypothesis (\n",
    "𝐻\n",
    "1\n",
    "​\n",
    " ):\n",
    "There is a significant difference in loneliness levels between individuals who frequently participate in physical exercise and those who frequently play online games."
   ]
  }
 ],
 "metadata": {
  "kernelspec": {
   "display_name": "Python 3 (ipykernel)",
   "language": "python",
   "name": "python3"
  },
  "language_info": {
   "codemirror_mode": {
    "name": "ipython",
    "version": 3
   },
   "file_extension": ".py",
   "mimetype": "text/x-python",
   "name": "python",
   "nbconvert_exporter": "python",
   "pygments_lexer": "ipython3",
   "version": "3.11.6"
  }
 },
 "nbformat": 4,
 "nbformat_minor": 5
}
