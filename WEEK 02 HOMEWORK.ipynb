{
 "cells": [
  {
   "cell_type": "markdown",
   "id": "c99d2930",
   "metadata": {},
   "source": [
    "monte hall thing explained"
   ]
  },
  {
   "cell_type": "code",
   "execution_count": 4,
   "id": "b2b2a1a5",
   "metadata": {},
   "outputs": [
    {
     "data": {
      "text/plain": [
       "0.66738"
      ]
     },
     "execution_count": 4,
     "metadata": {},
     "output_type": "execute_result"
    }
   ],
   "source": [
    "import numpy as np\n",
    "\n",
    "# List of doors (1, 2, 3)\n",
    "doors = [1, 2, 3]\n",
    "\n",
    "# Keep track of wins when switching\n",
    "switch_wins = 0\n",
    "\n",
    "# Number of repetitions for the simulation\n",
    "num_trials = 100000\n",
    "\n",
    "# Loop through each trial\n",
    "for _ in range(num_trials):\n",
    "    \n",
    "    # Randomly choose which door hides the car\n",
    "    winning_door = np.random.choice(doors)\n",
    "    \n",
    "    # Player always picks door 1\n",
    "    player_choice = 1\n",
    "    \n",
    "    # Monty opens a door that is not the player's choice and not the winning door\n",
    "    remaining_doors = [door for door in doors if door != player_choice and door != winning_door]\n",
    "    monty_opens = np.random.choice(remaining_doors)\n",
    "    \n",
    "    # Player switches to the other unopened door\n",
    "    switch_choice = [door for door in doors if door != player_choice and door != monty_opens][0]\n",
    "    \n",
    "    # Check if the player wins by switching\n",
    "    if switch_choice == winning_door:\n",
    "        switch_wins += 1\n",
    "\n",
    "# Calculate the probability of winning by switching\n",
    "switch_win_rate = switch_wins / num_trials\n",
    "switch_win_rate"
   ]
  },
  {
   "cell_type": "markdown",
   "id": "2b90ba5b",
   "metadata": {},
   "source": [
    "CHAT GPT SUMMARY"
   ]
  },
  {
   "cell_type": "markdown",
   "id": "255babce",
   "metadata": {},
   "source": [
    "Here’s a summary of our conversation:\n",
    "\n",
    "Monty Hall Problem Explanation: You shared a Python code simulating the Monty Hall problem, and I explained the\n",
    "code in detail, walking through the process of randomly placing the car, the player choosing a door, Monty \n",
    "revealing a goat, and the player switching doors to maximize their chance of winning.\n",
    "\n",
    "Simplified Code Version: I rewrote the Monty Hall simulation in a simpler form, with clear comments explaining\n",
    "each step. This version highlights the key logic without additional complexity.\n",
    "\n",
    "Summary of the Simulation: Finally, I provided a concise explanation of the Monty Hall problem and the results \n",
    "of the simulation, showing that the player wins about 2/3 of the time by switching doors.\n"
   ]
  },
  {
   "cell_type": "markdown",
   "id": "24d1fb3f",
   "metadata": {},
   "source": [
    "LINK TO CHAT"
   ]
  },
  {
   "cell_type": "markdown",
   "id": "5dcc9595",
   "metadata": {},
   "source": [
    "https://chatgpt.com/c/66eb7885-3818-8013-ba11-ca2746d49b31"
   ]
  },
  {
   "cell_type": "markdown",
   "id": "0cff57d0",
   "metadata": {},
   "source": [
    "NUMBER 6"
   ]
  },
  {
   "cell_type": "markdown",
   "id": "71e7feb4",
   "metadata": {},
   "source": [
    "a) Chatgpt was very helpful with answering my questions. When I asked it to explain what the \"initialization of nested dictionaries\" was to me it was very quick with giving me an example of the nested_dict function and also broke it into parts to make it seem simpler. Additionally it explained how it worked and its applications"
   ]
  },
  {
   "cell_type": "markdown",
   "id": "07d9692f",
   "metadata": {},
   "source": [
    "b) It was frustrating sometimes when it would disregard my question and do its own thing. I'd have to ask it to write it in simpler terms too because I feel like ChatGPT's responses arent very \"human\" and would often appear too wordy or \"code-y\""
   ]
  },
  {
   "cell_type": "markdown",
   "id": "5645afc8",
   "metadata": {},
   "source": [
    "c) ChatGPT has helped me tremendously with coding, especially in tutorials when were doing the demos it easily explains functions and gives amazing but simple examples"
   ]
  },
  {
   "cell_type": "markdown",
   "id": "4004eb7d",
   "metadata": {},
   "source": [
    "NUMBER 7"
   ]
  },
  {
   "cell_type": "markdown",
   "id": "70202add",
   "metadata": {},
   "source": [
    "Since joining this class I've become more familiar with how ChatGPT works, I didnt know that it could give code so quickly. I used to think it wasnt accurate at all but after seeing it explain specific codes and give applications I realized I was wrong."
   ]
  },
  {
   "cell_type": "markdown",
   "id": "c0b8cf73",
   "metadata": {},
   "source": [
    "Summary of the chat:\n",
    "\n",
    "\n",
    "\n"
   ]
  },
  {
   "cell_type": "markdown",
   "id": "e6c7066e",
   "metadata": {},
   "source": [
    "Certainly! Here’s a summary of the concepts related to character frequency and its application in your Markovian chatbot extension:\n",
    "\n",
    "Character Frequency\n",
    "Definition: The count of how often each character (e.g., letters, digits) appears in a text or dataset.\n",
    "Purpose: Useful for text analysis, data preprocessing, and understanding character distributions.\n",
    "Calculation\n",
    "Example: Use Python’s Counter from the collections module to count character occurrences:\n",
    "python\n",
    "Copy code\n",
    "from collections import Counter\n",
    "text = \"Hello World!\"\n",
    "character_count = Counter(text)\n",
    "Application in Your Chatbot\n",
    "Processing Character Data:\n",
    "\n",
    "Convert character names to uppercase, replace spaces with periods, and append a colon to standardize them.\n",
    "Use Counter to get the frequency of these standardized character names.\n",
    "Integration:\n",
    "\n",
    "word_used2C: Tracks the frequency of word pairs within each character's context.\n",
    "next_word2C: Records transitions from bigrams to trigrams for each character, reflecting their unique language patterns.\n",
    "Outcome:\n",
    "\n",
    "By using character frequency, you create a Markovian model that generates text reflective of individual characters’ distinct speaking styles and vocabulary, making the chatbot’s responses more personalized and contextually accurate."
   ]
  },
  {
   "cell_type": "markdown",
   "id": "b8353901",
   "metadata": {},
   "source": [
    "https://chatgpt.com/c/66eb7e59-ba24-8013-bde3-9037d5360f37"
   ]
  }
 ],
 "metadata": {
  "kernelspec": {
   "display_name": "Python 3 (ipykernel)",
   "language": "python",
   "name": "python3"
  },
  "language_info": {
   "codemirror_mode": {
    "name": "ipython",
    "version": 3
   },
   "file_extension": ".py",
   "mimetype": "text/x-python",
   "name": "python",
   "nbconvert_exporter": "python",
   "pygments_lexer": "ipython3",
   "version": "3.11.6"
  }
 },
 "nbformat": 4,
 "nbformat_minor": 5
}
